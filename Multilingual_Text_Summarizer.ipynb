{
 "cells": [
  {
   "cell_type": "markdown",
   "id": "5cf79a83",
   "metadata": {},
   "source": [
    "# 🌍 Multilingual Text Summarizer using BART\n",
    "This notebook demonstrates how to build a multilingual text summarizer using the BART transformer model and Google Translate for language support."
   ]
  },
  {
   "cell_type": "code",
   "execution_count": null,
   "id": "1e8ceb54",
   "metadata": {},
   "outputs": [],
   "source": [
    "!pip install transformers torch googletrans==4.0.0-rc1"
   ]
  },
  {
   "cell_type": "markdown",
   "id": "04d8d499",
   "metadata": {},
   "source": [
    "## 📚 Importing Libraries\n",
    "We’ll import all the necessary libraries including HuggingFace Transformers, Google Translate, and PyTorch."
   ]
  },
  {
   "cell_type": "code",
   "execution_count": null,
   "id": "03790344",
   "metadata": {},
   "outputs": [],
   "source": [
    "from transformers import BartTokenizer, BartForConditionalGeneration\n",
    "from googletrans import Translator\n",
    "import torch"
   ]
  },
  {
   "cell_type": "markdown",
   "id": "5a69879b",
   "metadata": {},
   "source": [
    "## ⚙️ Load BART Model and Tokenizer\n",
    "We load the pretrained `facebook/bart-large-cnn` model to perform summarization."
   ]
  },
  {
   "cell_type": "code",
   "execution_count": null,
   "id": "e397aaed",
   "metadata": {},
   "outputs": [],
   "source": [
    "tokenizer = BartTokenizer.from_pretrained(\"facebook/bart-large-cnn\")\n",
    "model = BartForConditionalGeneration.from_pretrained(\"facebook/bart-large-cnn\")"
   ]
  },
  {
   "cell_type": "markdown",
   "id": "ac320de3",
   "metadata": {},
   "source": [
    "## 🌐 Translation Functions\n",
    "We define functions to translate text into English before summarizing and then back to the original language."
   ]
  },
  {
   "cell_type": "code",
   "execution_count": null,
   "id": "0484c108",
   "metadata": {},
   "outputs": [],
   "source": [
    "translator = Translator()\n",
    "\n",
    "def translate_to_english(text, src_lang):\n",
    "    return translator.translate(text, src='auto', dest='en').text\n",
    "\n",
    "def translate_back_to_original(text, target_lang):\n",
    "    return translator.translate(text, src='en', dest=target_lang).text"
   ]
  },
  {
   "cell_type": "markdown",
   "id": "768f7d92",
   "metadata": {},
   "source": [
    "## ✂️ Summarization Function\n",
    "This function performs the actual summarization using the BART model."
   ]
  },
  {
   "cell_type": "code",
   "execution_count": null,
   "id": "62b7eeb9",
   "metadata": {},
   "outputs": [],
   "source": [
    "def summarize(text, min_length=30, max_length=100):\n",
    "    inputs = tokenizer([text], max_length=1024, truncation=True, return_tensors=\"pt\")\n",
    "    summary_ids = model.generate(inputs[\"input_ids\"],\n",
    "                                 max_length=max_length,\n",
    "                                 min_length=min_length,\n",
    "                                 num_beams=4,\n",
    "                                 length_penalty=2.0,\n",
    "                                 early_stopping=True)\n",
    "    return tokenizer.decode(summary_ids[0], skip_special_tokens=True)"
   ]
  },
  {
   "cell_type": "markdown",
   "id": "ba3c6c2e",
   "metadata": {},
   "source": [
    "## 🧪 Example Execution\n",
    "Now we input a text in a language of your choice (like Hindi, French, etc.), translate it to English, summarize it, and then translate it back."
   ]
  },
  {
   "cell_type": "code",
   "execution_count": null,
   "id": "e77b2a8a",
   "metadata": {},
   "outputs": [],
   "source": [
    "# Input text and language\n",
    "original_text = \"La Terre est la troisième planète du Soleil. C’est la seule planète connue pour abriter la vie.\"\n",
    "target_lang = 'fr'  # French\n",
    "\n",
    "# Translation → Summarization → Back Translation\n",
    "translated_text = translate_to_english(original_text, target_lang)\n",
    "summary = summarize(translated_text)\n",
    "final_summary = translate_back_to_original(summary, target_lang)\n",
    "\n",
    "print(\"🌐 Original:\", original_text)\n",
    "print(\"\\n📝 Summary:\", final_summary)"
   ]
  },
  {
   "cell_type": "markdown",
   "id": "3da26649",
   "metadata": {},
   "source": [
    "## ✅ Conclusion\n",
    "This notebook demonstrates how to perform multilingual summarization by combining translation and a powerful summarization model. It can be extended to support more styles, formats (PDF, DOCX), and models."
   ]
  }
 ],
 "metadata": {},
 "nbformat": 4,
 "nbformat_minor": 5
}
